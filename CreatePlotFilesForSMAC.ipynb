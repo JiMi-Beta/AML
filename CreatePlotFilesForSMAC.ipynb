{
 "cells": [
  {
   "cell_type": "code",
   "execution_count": 10,
   "metadata": {},
   "outputs": [],
   "source": [
    "import os\n",
    "import json\n",
    "\n",
    "pre = 'smac/'\n",
    "new = 'smac/resultsForPlots/'\n",
    "run = 'run_1608637542/runhistory.json'\n",
    "\n",
    "logfolders = [x for x in os.listdir(pre) if not 'log' in x]\n",
    "for logfolder in logfolders:\n",
    "    model = logfolder\n",
    "    if not os.path.exists(new+model):\n",
    "        os.makedirs(new+model)\n",
    "    folderpath = pre + logfolder+'/'\n",
    "    \n",
    "    smac_folders = [x for x in os.listdir(folderpath) if 'smac3' in x]\n",
    "    for smac_folder in smac_folders:\n",
    "        dataset = smac_folder.split('-')[-1]\n",
    "        logpath = new+model+'/'+dataset+'.log'\n",
    "        \n",
    "        json_path = folderpath + smac_folder + '/' + run\n",
    "        with open(json_path,'r') as f:\n",
    "            content = json.load(f)\n",
    "        performances = [1 - content['data'][x][1][0] for x in range(500)]\n",
    "        history = [None]*500\n",
    "        best = -100\n",
    "        with open(logpath,'w+') as f:\n",
    "            for i in range(500):\n",
    "                if performances[i] > best:\n",
    "                    best = performances[i]\n",
    "                history[i] = best\n",
    "                f.write(str(best) +'\\n')\n",
    "    \n"
   ]
  },
  {
   "cell_type": "code",
   "execution_count": 7,
   "metadata": {},
   "outputs": [
    {
     "data": {
      "text/plain": [
       "0.8303566745344872"
      ]
     },
     "execution_count": 7,
     "metadata": {},
     "output_type": "execute_result"
    }
   ],
   "source": [
    "import json\n",
    "\n",
    "path = 'C:/Users/intel/Desktop/AML/smac/knn/smac3-balance/run_1608637542/runhistory.json'\n",
    "\n",
    "with open(path,'r') as f:\n",
    "    content = json.load(f)\n",
    "    \n",
    "1 - content['data'][0][1][0]\n"
   ]
  }
 ],
 "metadata": {
  "kernelspec": {
   "display_name": "Python 3",
   "language": "python",
   "name": "python3"
  },
  "language_info": {
   "codemirror_mode": {
    "name": "ipython",
    "version": 3
   },
   "file_extension": ".py",
   "mimetype": "text/x-python",
   "name": "python",
   "nbconvert_exporter": "python",
   "pygments_lexer": "ipython3",
   "version": "3.8.1"
  }
 },
 "nbformat": 4,
 "nbformat_minor": 4
}
