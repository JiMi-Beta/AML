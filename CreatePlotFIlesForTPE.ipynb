{
 "cells": [
  {
   "cell_type": "code",
   "execution_count": 17,
   "metadata": {},
   "outputs": [],
   "source": [
    "import os\n",
    "import re\n",
    "import sys\n",
    "\n",
    "pre = 'tpe/'\n",
    "logfolder = [x for x in os.listdir(pre) if 'log' in x]\n",
    "\n",
    "if not os.path.exists('tpe/resultsForPlots'):\n",
    "    os.makedirs('tpe/resultsForPlots')\n",
    "\n",
    "results = 'tpe/resultsForPlots/'\n",
    "\n",
    "for folder in logfolder:\n",
    "    model = folder.split('_')[-1]\n",
    "    if not os.path.exists(results+model):\n",
    "        os.makedirs(results+model)\n",
    "    newdir = results + model +'/'\n",
    "    \n",
    "    folderdir = pre + folder\n",
    "    logfiles = os.listdir(folderdir)\n",
    "    for logfile in logfiles:\n",
    "        dataset = logfile.split('.')[0]\n",
    "        with open(folderdir + '/' + logfile,'r', encoding='utf-8') as f:\n",
    "            contents = [x for x in f.readlines() if len(re.findall('\\d+/500',x)) != 0][1:]\n",
    "        performances = [-float(contents[x].strip().split(' ')[-1][:-1]) for x in range(len(contents))]\n",
    "        \n",
    "        with open(newdir + logfile, 'w+') as f:\n",
    "            for perf in performances:\n",
    "                f.write(str(perf) + '\\n')\n",
    "            \n",
    "        \n",
    "    \n"
   ]
  },
  {
   "cell_type": "code",
   "execution_count": 4,
   "metadata": {},
   "outputs": [
    {
     "data": {
      "text/plain": [
       "['1/500']"
      ]
     },
     "execution_count": 4,
     "metadata": {},
     "output_type": "execute_result"
    }
   ],
   "source": [
    "import re\n",
    "test = '1/500'\n",
    "re.findall('\\d+/500',test)"
   ]
  }
 ],
 "metadata": {
  "kernelspec": {
   "display_name": "Python 3",
   "language": "python",
   "name": "python3"
  },
  "language_info": {
   "codemirror_mode": {
    "name": "ipython",
    "version": 3
   },
   "file_extension": ".py",
   "mimetype": "text/x-python",
   "name": "python",
   "nbconvert_exporter": "python",
   "pygments_lexer": "ipython3",
   "version": "3.8.1"
  }
 },
 "nbformat": 4,
 "nbformat_minor": 4
}
